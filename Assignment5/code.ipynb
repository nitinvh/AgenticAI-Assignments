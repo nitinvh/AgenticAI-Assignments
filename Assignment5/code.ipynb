{
 "cells": [
  {
   "cell_type": "markdown",
   "metadata": {},
   "source": [
    "# AI Travel Agent and Expense Planner"
   ]
  },
  {
   "cell_type": "code",
   "execution_count": 28,
   "metadata": {},
   "outputs": [],
   "source": [
    "import os\n",
    "from dotenv import load_dotenv\n",
    "load_dotenv()\n",
    "import requests\n",
    "import re"
   ]
  },
  {
   "cell_type": "code",
   "execution_count": 2,
   "metadata": {},
   "outputs": [],
   "source": [
    "os.environ[\"OPENAI_API_KEY\"] = os.getenv(\"OPENAI_API_KEY\")\n",
    "os.environ[\"GROQ_API_KEY\"] = os.getenv(\"GROQ_API_KEY\")\n",
    "OPENWEATHER_API_KEY = os.getenv(\"OPEN_WEATHER_API_KEY\")\n",
    "EXCHANGE_RATE_API_KEY = os.getenv(\"EXCHANGE_RATE_API_KEY\")\n",
    "GOOGLE_PLACES_API_KEY = os.getenv(\"GOOGLE_PLACES_API_KEY\")\n"
   ]
  },
  {
   "cell_type": "code",
   "execution_count": 3,
   "metadata": {},
   "outputs": [],
   "source": [
    "from langchain_groq import ChatGroq\n",
    "from langchain_openai import ChatOpenAI\n"
   ]
  },
  {
   "cell_type": "code",
   "execution_count": 4,
   "metadata": {},
   "outputs": [],
   "source": [
    "# Groq setup\n",
    "groq_llm = ChatGroq(model=\"deepseek-r1-distill-llama-70b\")\n",
    "\n",
    "# Openai llm setup\n",
    "openai_llm = ChatOpenAI(model=\"gpt-4.1-2025-04-14\")"
   ]
  },
  {
   "cell_type": "code",
   "execution_count": 5,
   "metadata": {},
   "outputs": [],
   "source": [
    "from pydantic import BaseModel, Field\n",
    "from langchain_core.messages import HumanMessage\n",
    "from langchain_core.output_parsers import PydanticOutputParser ,StrOutputParser\n",
    "from langgraph.graph import StateGraph,MessagesState,END,START\n",
    "from langgraph.prebuilt import ToolNode,tools_condition\n",
    "from langchain_core.prompts import PromptTemplate, ChatPromptTemplate\n",
    "from typing import TypedDict, Optional\n"
   ]
  },
  {
   "cell_type": "code",
   "execution_count": 6,
   "metadata": {},
   "outputs": [],
   "source": [
    "class TripInfo(BaseModel):\n",
    "    city: str\n",
    "    start_date: str\n",
    "    end_date: str\n",
    "    currency: str"
   ]
  },
  {
   "cell_type": "code",
   "execution_count": 7,
   "metadata": {},
   "outputs": [],
   "source": [
    "# 1. Shared State\n",
    "class TravelState(TypedDict):\n",
    "    city: Optional[str]\n",
    "    start_date: Optional[str]\n",
    "    end_date: Optional[str]\n",
    "    weather: Optional[str]\n",
    "    attractions: Optional[list]\n",
    "    hotel_cost: Optional[float]\n",
    "    exchange_rate: Optional[float]\n",
    "    total_cost: Optional[float]\n",
    "    itinerary: Optional[str]\n",
    "    summary: Optional[str]\n",
    "    user_query: Optional[str]"
   ]
  },
  {
   "cell_type": "code",
   "execution_count": 8,
   "metadata": {},
   "outputs": [],
   "source": [
    "# 2. AI extraction node\n",
    "def extract_info_with_ai(state: TravelState) -> TravelState:\n",
    "    query = state.get(\"user_query\") or \"\"\n",
    "    print(\"🤖 Extracting city and dates using AI...\")\n",
    "\n",
    "    prompt = ChatPromptTemplate.from_template(\"\"\"\n",
    "    You are a travel assistant. Extract the city, start date, end date, and preferred currency from this user query.\n",
    "    Return only a JSON object like this:\n",
    "    {{  \n",
    "    \"city\": \"Tokyo\",\n",
    "    \"start_date\": \"2025-07-15\",\n",
    "    \"end_date\": \"2025-07-20\",\n",
    "    \"currency\": \"USD\"\n",
    "    }}\n",
    "\n",
    "    Query: \"{input}\"\n",
    "    \"\"\")\n",
    "\n",
    "    \n",
    "    structured_model = groq_llm.with_structured_output(TripInfo)\n",
    "    chain = prompt | structured_model\n",
    "\n",
    "\n",
    "    try:\n",
    "        result = chain.invoke({\"input\": query})\n",
    "        print(\"🧠 Extracted:\", result)\n",
    "        return {\n",
    "            **state,\n",
    "            \"city\": result.city,\n",
    "            \"start_date\": result.start_date,\n",
    "            \"end_date\": result.end_date,\n",
    "            \"currency\": result.currency.upper()\n",
    "        }\n",
    "\n",
    "    except Exception as e:\n",
    "        print(f\"❌ AI extraction failed: {e}\")\n",
    "        return state"
   ]
  },
  {
   "cell_type": "code",
   "execution_count": 9,
   "metadata": {},
   "outputs": [],
   "source": [
    "# 3. Fallback prompt\n",
    "def ask_missing_info(state: TravelState) -> TravelState:\n",
    "    if not state.get(\"city\"):\n",
    "        state[\"city\"] = input(\"Which city are you planning to visit? \")\n",
    "    if not state.get(\"start_date\"):\n",
    "        state[\"start_date\"] = input(\"What is your start date? (YYYY-MM-DD): \")\n",
    "    if not state.get(\"end_date\"):\n",
    "        state[\"end_date\"] = input(\"What is your end date? (YYYY-MM-DD): \")\n",
    "    return state"
   ]
  },
  {
   "cell_type": "code",
   "execution_count": 10,
   "metadata": {},
   "outputs": [],
   "source": [
    "# 4. Other Nodes\n",
    "def fetch_weather(state: TravelState) -> TravelState:\n",
    "    city = state['city']\n",
    "    print(f\"🌦️ Fetching real weather for {city}...\")\n",
    "\n",
    "    url = f\"http://api.openweathermap.org/data/2.5/forecast?q={city}&appid={OPENWEATHER_API_KEY}&units=metric\"\n",
    "    response = requests.get(url)\n",
    "    data = response.json()\n",
    "\n",
    "    if \"list\" in data:\n",
    "        forecasts = data[\"list\"][:5]\n",
    "        forecast_text = \"\\n\".join([f\"{f['dt_txt']}: {f['main']['temp']}°C, {f['weather'][0]['description']}\" for f in forecasts])\n",
    "        state[\"weather\"] = forecast_text\n",
    "    else:\n",
    "        state[\"weather\"] = \"Weather data unavailable.\"\n",
    "\n",
    "    print(f\"🌦️ Weather in {city}: {state['weather']}\")\n",
    "    return state"
   ]
  },
  {
   "cell_type": "code",
   "execution_count": 11,
   "metadata": {},
   "outputs": [],
   "source": [
    "def fetch_attractions(state: TravelState) -> TravelState:\n",
    "    city = state['city']\n",
    "    print(f\"📍 Getting real places for {city}...\")\n",
    "\n",
    "    url = f\"https://maps.googleapis.com/maps/api/place/textsearch/json?query=top+places+to+visit+in+{city}&key={GOOGLE_PLACES_API_KEY}\"\n",
    "    resp = requests.get(url).json()\n",
    "    \n",
    "    places = [result[\"name\"] for result in resp.get(\"results\", [])[:5]]\n",
    "    state[\"attractions\"] = places or [\"No attractions found.\"]\n",
    "    print(f\"📍 Places in {city}: {places}\")\n",
    "    return state"
   ]
  },
  {
   "cell_type": "code",
   "execution_count": 12,
   "metadata": {},
   "outputs": [],
   "source": [
    "def estimate_hotel_cost(state: TravelState) -> TravelState:\n",
    "    print(\"🏨 Estimating hotel cost...\")\n",
    "    state[\"hotel_cost\"] = 100 * 5\n",
    "    print(f\"🏨 Hotel cost: {state['hotel_cost']}\")\n",
    "    return state"
   ]
  },
  {
   "cell_type": "code",
   "execution_count": 13,
   "metadata": {},
   "outputs": [],
   "source": [
    "def convert_currency(state: TravelState) -> TravelState:\n",
    "    print(\"💱 Getting real exchange rate...\")\n",
    "    base_currency = state.get(\"currency\", \"USD\").upper()\n",
    "    url = f\"https://v6.exchangerate-api.com/v6/{EXCHANGE_RATE_API_KEY}/latest/{base_currency}\"\n",
    "\n",
    "    try:\n",
    "        resp = requests.get(url)\n",
    "        resp.raise_for_status()\n",
    "        data = resp.json()\n",
    "        rate = data[\"conversion_rates\"][\"INR\"]\n",
    "    except Exception as e:\n",
    "        print(f\"❌ Currency conversion failed: {e}\")\n",
    "        state[\"exchange_rate\"] = None\n",
    "        return state\n",
    "\n",
    "    state[\"exchange_rate\"] = rate\n",
    "    state[\"total_cost\"] = state[\"hotel_cost\"] * rate\n",
    "    print(f\"💱 Total Cost in INR: ₹{state['total_cost']}\")\n",
    "    return state"
   ]
  },
  {
   "cell_type": "code",
   "execution_count": 14,
   "metadata": {},
   "outputs": [],
   "source": [
    "def generate_itinerary(state: TravelState) -> TravelState:\n",
    "    print(\"📅 Generating itinerary...\")\n",
    "\n",
    "    attractions = state.get(\"attractions\", [])\n",
    "    itinerary_lines = []\n",
    "\n",
    "    for i, place in enumerate(attractions, 1):\n",
    "        itinerary_lines.append(f\"Day {i}: Visit {place}\")\n",
    "\n",
    "    itinerary_text = \"\\n\".join(itinerary_lines) if itinerary_lines else \"Itinerary could not be generated due to missing attraction data.\"\n",
    "\n",
    "    state[\"itinerary\"] = itinerary_text\n",
    "    print(f\"📅 Generated Itinerary: {state['itinerary']}\")\n",
    "    return state"
   ]
  },
  {
   "cell_type": "code",
   "execution_count": 15,
   "metadata": {},
   "outputs": [],
   "source": [
    "def generate_summary(state: TravelState) -> TravelState:\n",
    "    print(\"📝 Generating summary using LLM...\")\n",
    "\n",
    "    city = state.get(\"city\", \"N/A\")\n",
    "    start_date = state.get(\"start_date\", \"N/A\")\n",
    "    end_date = state.get(\"end_date\", \"N/A\")\n",
    "    weather = state.get(\"weather\", \"N/A\")\n",
    "    attractions = state.get(\"attractions\", [])\n",
    "    hotel_cost = state.get(\"hotel_cost\", 0.0)\n",
    "    exchange_rate = state.get(\"exchange_rate\", None)\n",
    "    total_cost = state.get(\"total_cost\", 0.0)\n",
    "    itinerary = state.get(\"itinerary\", \"No itinerary available.\")\n",
    "\n",
    "    input_summary = f\"\"\"\n",
    "    A user is planning a trip to {city} from {start_date} to {end_date}.\n",
    "    The weather forecast is: {weather}.\n",
    "    The top 5 attractions include: {', '.join(attractions)}.\n",
    "    The estimated hotel cost is ${hotel_cost:.2f}.\n",
    "    The current exchange rate is {exchange_rate} INR per USD.\n",
    "    The estimated total cost is ₹{total_cost:,.2f}.\n",
    "    The itinerary is:\n",
    "    {itinerary}\n",
    "\n",
    "    Write a short, friendly and informative summary of this trip.\n",
    "    Only return the final summary. Do not include any reasoning, internal thoughts, or explanations.\n",
    "    Limit the output to 100-120 words.\n",
    "    \"\"\"\n",
    "\n",
    "    # LLM setup\n",
    "    prompt = ChatPromptTemplate.from_template(\"{input}\")\n",
    "    model = ChatGroq(model=\"deepseek-r1-distill-llama-70b\")\n",
    "    chain = prompt | model\n",
    "\n",
    "    try:\n",
    "        llm_response = chain.invoke({\"input\": input_summary})\n",
    "        raw_output = llm_response.content.strip()\n",
    "        # Remove <think>...</think> tags\n",
    "        summary_text = re.sub(r\"<think>.*?</think>\", \"\", raw_output, flags=re.DOTALL).strip()\n",
    "        state[\"summary\"] = summary_text\n",
    "        print(f\"📝 Generated Summary (LLM):\\n{summary_text}\")\n",
    "    except Exception as e:\n",
    "        print(f\"❌ LLM summary generation failed: {e}\")\n",
    "        state[\"summary\"] = \"Summary generation failed. Please try again.\"\n",
    "\n",
    "    return state\n",
    "\n"
   ]
  },
  {
   "cell_type": "code",
   "execution_count": 16,
   "metadata": {},
   "outputs": [],
   "source": [
    "class TopicAnalyser(BaseModel):\n",
    "    Topic: str = Field(description=\"Selected Topic\")\n",
    "    Reasoning: str = Field(description=\"Reasoning behind topic selected\")"
   ]
  },
  {
   "cell_type": "code",
   "execution_count": 17,
   "metadata": {},
   "outputs": [
    {
     "data": {
      "text/plain": [
       "'The output should be formatted as a JSON instance that conforms to the JSON schema below.\\n\\nAs an example, for the schema {\"properties\": {\"foo\": {\"title\": \"Foo\", \"description\": \"a list of strings\", \"type\": \"array\", \"items\": {\"type\": \"string\"}}}, \"required\": [\"foo\"]}\\nthe object {\"foo\": [\"bar\", \"baz\"]} is a well-formatted instance of the schema. The object {\"properties\": {\"foo\": [\"bar\", \"baz\"]}} is not well-formatted.\\n\\nHere is the output schema:\\n```\\n{\"properties\": {\"Topic\": {\"description\": \"Selected Topic\", \"title\": \"Topic\", \"type\": \"string\"}, \"Reasoning\": {\"description\": \"Reasoning behind topic selected\", \"title\": \"Reasoning\", \"type\": \"string\"}}, \"required\": [\"Topic\", \"Reasoning\"]}\\n```'"
      ]
     },
     "execution_count": 17,
     "metadata": {},
     "output_type": "execute_result"
    }
   ],
   "source": [
    "topic_parser = PydanticOutputParser(pydantic_object=TopicAnalyser)\n",
    "topic_parser.get_format_instructions()"
   ]
  },
  {
   "cell_type": "code",
   "execution_count": 18,
   "metadata": {},
   "outputs": [],
   "source": [
    "def supervisor(state:TravelState):\n",
    "    print(\"--> SUPERVISOR -->\")\n",
    "    question = state.get(\"user_query\")\n",
    "    print(\"Question:\", question)\n",
    "\n",
    "    template=\"\"\"\n",
    "    Your task is to classify the given user query into one of the following categories: [ Not Related, Trip Planning]. \n",
    "    Only respond with the category name and nothing else.\n",
    "    Rule for classyfying:\n",
    "    If the question talks about trip planning or similar info then classify it as 'Trip Planning',\n",
    "    Otherwise, classify it to 'Not Related'.\n",
    "\n",
    "    User query: {question}\n",
    "    {format_instructions}\n",
    "    \"\"\"\n",
    "\n",
    "    prompt = PromptTemplate(\n",
    "        template=template,\n",
    "        input_variables=[\"question\"],\n",
    "        partial_variables={\"format_instructions\":topic_parser.get_format_instructions()}\n",
    "    )\n",
    "\n",
    "    chain = prompt | groq_llm | topic_parser\n",
    "\n",
    "    res = chain.invoke({\"question\":question})\n",
    "\n",
    "    print(\"Response: \", res)\n",
    "\n",
    "    return {\"messages\": [res.Topic]}"
   ]
  },
  {
   "cell_type": "code",
   "execution_count": 19,
   "metadata": {},
   "outputs": [],
   "source": [
    "def router(state:TravelState):\n",
    "    topic = state[\"messages\"][-1]\n",
    "    if \"Not Related\" in topic:\n",
    "        return \"llm call\"\n",
    "    return \"extract_info_with_ai\""
   ]
  },
  {
   "cell_type": "code",
   "execution_count": 20,
   "metadata": {},
   "outputs": [],
   "source": [
    "# def llm_call(state:TravelState):\n",
    "#     question = state.get(\"user_query\")\n",
    "#     res = groq_llm.invoke(question)\n",
    "\n",
    "\n",
    "    "
   ]
  },
  {
   "cell_type": "code",
   "execution_count": 21,
   "metadata": {},
   "outputs": [],
   "source": [
    "# 5. Define Graph\n",
    "workflow = StateGraph(TravelState)"
   ]
  },
  {
   "cell_type": "code",
   "execution_count": 22,
   "metadata": {},
   "outputs": [
    {
     "data": {
      "text/plain": [
       "<langgraph.graph.state.StateGraph at 0x11ddf7f90>"
      ]
     },
     "execution_count": 22,
     "metadata": {},
     "output_type": "execute_result"
    }
   ],
   "source": [
    "\n",
    "workflow.add_node(\"extract_info_with_ai\", extract_info_with_ai)\n",
    "workflow.add_node(\"ask_missing_info\", ask_missing_info)\n",
    "workflow.add_node(\"fetch_weather\", fetch_weather)\n",
    "workflow.add_node(\"fetch_attractions\", fetch_attractions)\n",
    "workflow.add_node(\"estimate_hotel_cost\", estimate_hotel_cost)\n",
    "workflow.add_node(\"convert_currency\", convert_currency)\n",
    "workflow.add_node(\"generate_itinerary\", generate_itinerary)\n",
    "workflow.add_node(\"generate_summary\", generate_summary)\n"
   ]
  },
  {
   "cell_type": "code",
   "execution_count": 23,
   "metadata": {},
   "outputs": [
    {
     "data": {
      "text/plain": [
       "<langgraph.graph.state.StateGraph at 0x11ddf7f90>"
      ]
     },
     "execution_count": 23,
     "metadata": {},
     "output_type": "execute_result"
    }
   ],
   "source": [
    "\n",
    "workflow.set_entry_point(\"extract_info_with_ai\")\n",
    "workflow.add_edge(\"extract_info_with_ai\", \"ask_missing_info\")\n",
    "workflow.add_edge(\"ask_missing_info\", \"fetch_weather\")\n",
    "workflow.add_edge(\"fetch_weather\", \"fetch_attractions\")\n",
    "workflow.add_edge(\"fetch_attractions\", \"estimate_hotel_cost\")\n",
    "workflow.add_edge(\"estimate_hotel_cost\", \"convert_currency\")\n",
    "workflow.add_edge(\"convert_currency\", \"generate_itinerary\")\n",
    "workflow.add_edge(\"generate_itinerary\", \"generate_summary\")\n",
    "workflow.add_edge(\"generate_summary\", END)"
   ]
  },
  {
   "cell_type": "code",
   "execution_count": 24,
   "metadata": {},
   "outputs": [],
   "source": [
    "app = workflow.compile()"
   ]
  },
  {
   "cell_type": "code",
   "execution_count": 25,
   "metadata": {},
   "outputs": [],
   "source": [
    "# Accept user query in any language\n",
    "user_query = input(\"I am planning to go to New orlands from houston via road in my car, planning for 2 nights starting from today, i need a detail travel plan on what i can cover with hotels near downtown? \")\n",
    "\n",
    "initial_state: TravelState = {\n",
    "    \"city\": None,\n",
    "    \"start_date\": None,\n",
    "    \"end_date\": None,\n",
    "    \"weather\": None,\n",
    "    \"attractions\": None,\n",
    "    \"hotel_cost\": None,\n",
    "    \"exchange_rate\": None,\n",
    "    \"total_cost\": None,\n",
    "    \"itinerary\": None,\n",
    "    \"summary\": None,\n",
    "    \"user_query\": user_query\n",
    "}"
   ]
  },
  {
   "cell_type": "code",
   "execution_count": 29,
   "metadata": {},
   "outputs": [
    {
     "name": "stdout",
     "output_type": "stream",
     "text": [
      "🤖 Extracting city and dates using AI...\n",
      "🧠 Extracted: city='Tokyo' start_date='2025-07-15' end_date='2025-07-20' currency='USD'\n",
      "🌦️ Fetching real weather for Tokyo...\n",
      "🌦️ Weather in Tokyo: 2025-06-20 18:00:00: 24.33°C, scattered clouds\n",
      "2025-06-20 21:00:00: 24.1°C, scattered clouds\n",
      "2025-06-21 00:00:00: 26.68°C, broken clouds\n",
      "2025-06-21 03:00:00: 29.03°C, broken clouds\n",
      "2025-06-21 06:00:00: 29.12°C, broken clouds\n",
      "📍 Getting real places for Tokyo...\n",
      "📍 Places in Tokyo: []\n",
      "🏨 Estimating hotel cost...\n",
      "🏨 Hotel cost: 500\n",
      "💱 Getting real exchange rate...\n",
      "💱 Total Cost in INR: ₹43402.2\n",
      "📅 Generating itinerary...\n",
      "📅 Generated Itinerary: Day 1: Visit No attractions found.\n",
      "📝 Generating summary using LLM...\n",
      "📝 Generated Summary (LLM):\n",
      "Your trip to Tokyo from July 15 to 20, 2025, promises to be an exciting adventure! The weather forecast suggests warm temperatures, with highs around 29°C and scattered to broken clouds, making it ideal for exploring. While the top attractions are yet to be finalized, Tokyo offers plenty of iconic spots like Shibuya Crossing, Asakusa, and more to discover. Your hotel cost is estimated at $500.00, which translates to ₹43,402.20. Budget accordingly for meals, transport, and activities. Enjoy your time in this vibrant city and have a smooth planning process!\n"
     ]
    }
   ],
   "source": [
    "# Run\n",
    "final_state = app.invoke(initial_state)"
   ]
  },
  {
   "cell_type": "code",
   "execution_count": 27,
   "metadata": {},
   "outputs": [
    {
     "name": "stdout",
     "output_type": "stream",
     "text": [
      "\n",
      "✅ Final Travel Plan Summary:\n",
      "\n",
      "Summary generation failed. Please try again.\n"
     ]
    }
   ],
   "source": [
    "print(\"\\n✅ Final Travel Plan Summary:\\n\")\n",
    "print(final_state[\"summary\"])"
   ]
  }
 ],
 "metadata": {
  "kernelspec": {
   "display_name": "Python 3",
   "language": "python",
   "name": "python3"
  },
  "language_info": {
   "codemirror_mode": {
    "name": "ipython",
    "version": 3
   },
   "file_extension": ".py",
   "mimetype": "text/x-python",
   "name": "python",
   "nbconvert_exporter": "python",
   "pygments_lexer": "ipython3",
   "version": "3.11.0"
  }
 },
 "nbformat": 4,
 "nbformat_minor": 2
}
