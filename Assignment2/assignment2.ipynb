{
 "cells": [
  {
   "cell_type": "markdown",
   "metadata": {},
   "source": [
    "# RAG with Pinecone VectorDB"
   ]
  },
  {
   "cell_type": "code",
   "execution_count": 12,
   "metadata": {},
   "outputs": [],
   "source": [
    "import os"
   ]
  },
  {
   "cell_type": "code",
   "execution_count": 13,
   "metadata": {},
   "outputs": [],
   "source": [
    "from dotenv import load_dotenv\n",
    "load_dotenv()\n",
    "\n",
    "\n",
    "os.environ['HF_TOKEN']=os.getenv(\"HF_TOKEN\")\n",
    "os.environ['GOOGLE_API_KEY'] = os.getenv('GOOGLE_API_KEY')\n",
    "os.environ['PINECONE_API_KEY'] = os.getenv('PINECONE_API_KEY')"
   ]
  },
  {
   "cell_type": "markdown",
   "metadata": {},
   "source": [
    "## Loading The File"
   ]
  },
  {
   "cell_type": "code",
   "execution_count": 14,
   "metadata": {},
   "outputs": [],
   "source": [
    "file_path = \"../../2.1-DataIngestion/speech.txt\""
   ]
  },
  {
   "cell_type": "code",
   "execution_count": 15,
   "metadata": {},
   "outputs": [],
   "source": [
    "from langchain_community.document_loaders import TextLoader\n",
    "loader = TextLoader(file_path)"
   ]
  },
  {
   "cell_type": "code",
   "execution_count": 16,
   "metadata": {},
   "outputs": [
    {
     "data": {
      "text/plain": [
       "[Document(metadata={'source': '../../2.1-DataIngestion/speech.txt'}, page_content='The world must be made safe for democracy. Its peace must be planted upon the tested foundations of political liberty. We have no selfish ends to serve. We desire no conquest, no dominion. We seek no indemnities for ourselves, no material compensation for the sacrifices we shall freely make. We are but one of the champions of the rights of mankind. We shall be satisfied when those rights have been made as secure as the faith and the freedom of nations can make them.\\n\\nJust because we fight without rancor and without selfish object, seeking nothing for ourselves but what we shall wish to share with all free peoples, we shall, I feel confident, conduct our operations as belligerents without passion and ourselves observe with proud punctilio the principles of right and of fair play we profess to be fighting for.\\n\\n…\\n\\nIt will be all the easier for us to conduct ourselves as belligerents in a high spirit of right and fairness because we act without animus, not in enmity toward a people or with the desire to bring any injury or disadvantage upon them, but only in armed opposition to an irresponsible government which has thrown aside all considerations of humanity and of right and is running amuck. We are, let me say again, the sincere friends of the German people, and shall desire nothing so much as the early reestablishment of intimate relations of mutual advantage between us—however hard it may be for them, for the time being, to believe that this is spoken from our hearts.\\n\\nWe have borne with their present government through all these bitter months because of that friendship—exercising a patience and forbearance which would otherwise have been impossible. We shall, happily, still have an opportunity to prove that friendship in our daily attitude and actions toward the millions of men and women of German birth and native sympathy who live among us and share our life, and we shall be proud to prove it toward all who are in fact loyal to their neighbors and to the government in the hour of test. They are, most of them, as true and loyal Americans as if they had never known any other fealty or allegiance. They will be prompt to stand with us in rebuking and restraining the few who may be of a different mind and purpose. If there should be disloyalty, it will be dealt with with a firm hand of stern repression; but, if it lifts its head at all, it will lift it only here and there and without countenance except from a lawless and malignant few.\\n\\nIt is a distressing and oppressive duty, gentlemen of the Congress, which I have performed in thus addressing you. There are, it may be, many months of fiery trial and sacrifice ahead of us. It is a fearful thing to lead this great peaceful people into war, into the most terrible and disastrous of all wars, civilization itself seeming to be in the balance. But the right is more precious than peace, and we shall fight for the things which we have always carried nearest our hearts—for democracy, for the right of those who submit to authority to have a voice in their own governments, for the rights and liberties of small nations, for a universal dominion of right by such a concert of free peoples as shall bring peace and safety to all nations and make the world itself at last free.\\n\\nTo such a task we can dedicate our lives and our fortunes, everything that we are and everything that we have, with the pride of those who know that the day has come when America is privileged to spend her blood and her might for the principles that gave her birth and happiness and the peace which she has treasured. God helping her, she can do no other.')]"
      ]
     },
     "execution_count": 16,
     "metadata": {},
     "output_type": "execute_result"
    }
   ],
   "source": [
    "loader.load()"
   ]
  },
  {
   "cell_type": "markdown",
   "metadata": {},
   "source": [
    "## Splitting the file into Chunks\n"
   ]
  },
  {
   "cell_type": "code",
   "execution_count": 17,
   "metadata": {},
   "outputs": [],
   "source": [
    "from langchain_text_splitters import RecursiveCharacterTextSplitter\n",
    "splitter_doc = RecursiveCharacterTextSplitter(chunk_size = 100, chunk_overlap=50)"
   ]
  },
  {
   "cell_type": "code",
   "execution_count": 19,
   "metadata": {},
   "outputs": [],
   "source": [
    "splitted_docs = splitter_doc.split_documents(loader.load())"
   ]
  },
  {
   "cell_type": "code",
   "execution_count": 20,
   "metadata": {},
   "outputs": [
    {
     "data": {
      "text/plain": [
       "[Document(metadata={'source': '../../2.1-DataIngestion/speech.txt'}, page_content='The world must be made safe for democracy. Its peace must be planted upon the tested foundations of'),\n",
       " Document(metadata={'source': '../../2.1-DataIngestion/speech.txt'}, page_content='must be planted upon the tested foundations of political liberty. We have no selfish ends to serve.'),\n",
       " Document(metadata={'source': '../../2.1-DataIngestion/speech.txt'}, page_content='liberty. We have no selfish ends to serve. We desire no conquest, no dominion. We seek no'),\n",
       " Document(metadata={'source': '../../2.1-DataIngestion/speech.txt'}, page_content='We desire no conquest, no dominion. We seek no indemnities for ourselves, no material compensation'),\n",
       " Document(metadata={'source': '../../2.1-DataIngestion/speech.txt'}, page_content='for ourselves, no material compensation for the sacrifices we shall freely make. We are but one of'),\n",
       " Document(metadata={'source': '../../2.1-DataIngestion/speech.txt'}, page_content='we shall freely make. We are but one of the champions of the rights of mankind. We shall be'),\n",
       " Document(metadata={'source': '../../2.1-DataIngestion/speech.txt'}, page_content='champions of the rights of mankind. We shall be satisfied when those rights have been made as'),\n",
       " Document(metadata={'source': '../../2.1-DataIngestion/speech.txt'}, page_content='be satisfied when those rights have been made as secure as the faith and the freedom of nations can'),\n",
       " Document(metadata={'source': '../../2.1-DataIngestion/speech.txt'}, page_content='as the faith and the freedom of nations can make them.'),\n",
       " Document(metadata={'source': '../../2.1-DataIngestion/speech.txt'}, page_content='Just because we fight without rancor and without selfish object, seeking nothing for ourselves but'),\n",
       " Document(metadata={'source': '../../2.1-DataIngestion/speech.txt'}, page_content='selfish object, seeking nothing for ourselves but what we shall wish to share with all free'),\n",
       " Document(metadata={'source': '../../2.1-DataIngestion/speech.txt'}, page_content='but what we shall wish to share with all free peoples, we shall, I feel confident, conduct our'),\n",
       " Document(metadata={'source': '../../2.1-DataIngestion/speech.txt'}, page_content='peoples, we shall, I feel confident, conduct our operations as belligerents without passion and'),\n",
       " Document(metadata={'source': '../../2.1-DataIngestion/speech.txt'}, page_content='operations as belligerents without passion and ourselves observe with proud punctilio the'),\n",
       " Document(metadata={'source': '../../2.1-DataIngestion/speech.txt'}, page_content='and ourselves observe with proud punctilio the principles of right and of fair play we profess to'),\n",
       " Document(metadata={'source': '../../2.1-DataIngestion/speech.txt'}, page_content='of right and of fair play we profess to be fighting for.'),\n",
       " Document(metadata={'source': '../../2.1-DataIngestion/speech.txt'}, page_content='…'),\n",
       " Document(metadata={'source': '../../2.1-DataIngestion/speech.txt'}, page_content='It will be all the easier for us to conduct ourselves as belligerents in a high spirit of right and'),\n",
       " Document(metadata={'source': '../../2.1-DataIngestion/speech.txt'}, page_content='as belligerents in a high spirit of right and fairness because we act without animus, not in enmity'),\n",
       " Document(metadata={'source': '../../2.1-DataIngestion/speech.txt'}, page_content='because we act without animus, not in enmity toward a people or with the desire to bring any injury'),\n",
       " Document(metadata={'source': '../../2.1-DataIngestion/speech.txt'}, page_content='a people or with the desire to bring any injury or disadvantage upon them, but only in armed'),\n",
       " Document(metadata={'source': '../../2.1-DataIngestion/speech.txt'}, page_content='or disadvantage upon them, but only in armed opposition to an irresponsible government which has'),\n",
       " Document(metadata={'source': '../../2.1-DataIngestion/speech.txt'}, page_content='to an irresponsible government which has thrown aside all considerations of humanity and of right'),\n",
       " Document(metadata={'source': '../../2.1-DataIngestion/speech.txt'}, page_content='aside all considerations of humanity and of right and is running amuck. We are, let me say again,'),\n",
       " Document(metadata={'source': '../../2.1-DataIngestion/speech.txt'}, page_content='and is running amuck. We are, let me say again, the sincere friends of the German people, and shall'),\n",
       " Document(metadata={'source': '../../2.1-DataIngestion/speech.txt'}, page_content='sincere friends of the German people, and shall desire nothing so much as the early reestablishment'),\n",
       " Document(metadata={'source': '../../2.1-DataIngestion/speech.txt'}, page_content='nothing so much as the early reestablishment of intimate relations of mutual advantage between'),\n",
       " Document(metadata={'source': '../../2.1-DataIngestion/speech.txt'}, page_content='of intimate relations of mutual advantage between us—however hard it may be for them, for the time'),\n",
       " Document(metadata={'source': '../../2.1-DataIngestion/speech.txt'}, page_content='us—however hard it may be for them, for the time being, to believe that this is spoken from our'),\n",
       " Document(metadata={'source': '../../2.1-DataIngestion/speech.txt'}, page_content='being, to believe that this is spoken from our hearts.'),\n",
       " Document(metadata={'source': '../../2.1-DataIngestion/speech.txt'}, page_content='We have borne with their present government through all these bitter months because of that'),\n",
       " Document(metadata={'source': '../../2.1-DataIngestion/speech.txt'}, page_content='through all these bitter months because of that friendship—exercising a patience and forbearance'),\n",
       " Document(metadata={'source': '../../2.1-DataIngestion/speech.txt'}, page_content='friendship—exercising a patience and forbearance which would otherwise have been impossible. We'),\n",
       " Document(metadata={'source': '../../2.1-DataIngestion/speech.txt'}, page_content='which would otherwise have been impossible. We shall, happily, still have an opportunity to prove'),\n",
       " Document(metadata={'source': '../../2.1-DataIngestion/speech.txt'}, page_content='happily, still have an opportunity to prove that friendship in our daily attitude and actions'),\n",
       " Document(metadata={'source': '../../2.1-DataIngestion/speech.txt'}, page_content='that friendship in our daily attitude and actions toward the millions of men and women of German'),\n",
       " Document(metadata={'source': '../../2.1-DataIngestion/speech.txt'}, page_content='toward the millions of men and women of German birth and native sympathy who live among us and'),\n",
       " Document(metadata={'source': '../../2.1-DataIngestion/speech.txt'}, page_content='birth and native sympathy who live among us and share our life, and we shall be proud to prove it'),\n",
       " Document(metadata={'source': '../../2.1-DataIngestion/speech.txt'}, page_content='share our life, and we shall be proud to prove it toward all who are in fact loyal to their'),\n",
       " Document(metadata={'source': '../../2.1-DataIngestion/speech.txt'}, page_content='it toward all who are in fact loyal to their neighbors and to the government in the hour of test.'),\n",
       " Document(metadata={'source': '../../2.1-DataIngestion/speech.txt'}, page_content='and to the government in the hour of test. They are, most of them, as true and loyal Americans as'),\n",
       " Document(metadata={'source': '../../2.1-DataIngestion/speech.txt'}, page_content='are, most of them, as true and loyal Americans as if they had never known any other fealty or'),\n",
       " Document(metadata={'source': '../../2.1-DataIngestion/speech.txt'}, page_content='as if they had never known any other fealty or allegiance. They will be prompt to stand with us in'),\n",
       " Document(metadata={'source': '../../2.1-DataIngestion/speech.txt'}, page_content='They will be prompt to stand with us in rebuking and restraining the few who may be of a different'),\n",
       " Document(metadata={'source': '../../2.1-DataIngestion/speech.txt'}, page_content='and restraining the few who may be of a different mind and purpose. If there should be disloyalty,'),\n",
       " Document(metadata={'source': '../../2.1-DataIngestion/speech.txt'}, page_content='mind and purpose. If there should be disloyalty, it will be dealt with with a firm hand of stern'),\n",
       " Document(metadata={'source': '../../2.1-DataIngestion/speech.txt'}, page_content='it will be dealt with with a firm hand of stern repression; but, if it lifts its head at all, it'),\n",
       " Document(metadata={'source': '../../2.1-DataIngestion/speech.txt'}, page_content='repression; but, if it lifts its head at all, it will lift it only here and there and without'),\n",
       " Document(metadata={'source': '../../2.1-DataIngestion/speech.txt'}, page_content='it will lift it only here and there and without countenance except from a lawless and malignant'),\n",
       " Document(metadata={'source': '../../2.1-DataIngestion/speech.txt'}, page_content='countenance except from a lawless and malignant few.'),\n",
       " Document(metadata={'source': '../../2.1-DataIngestion/speech.txt'}, page_content='It is a distressing and oppressive duty, gentlemen of the Congress, which I have performed in thus'),\n",
       " Document(metadata={'source': '../../2.1-DataIngestion/speech.txt'}, page_content='of the Congress, which I have performed in thus addressing you. There are, it may be, many months'),\n",
       " Document(metadata={'source': '../../2.1-DataIngestion/speech.txt'}, page_content='addressing you. There are, it may be, many months of fiery trial and sacrifice ahead of us. It is a'),\n",
       " Document(metadata={'source': '../../2.1-DataIngestion/speech.txt'}, page_content='of fiery trial and sacrifice ahead of us. It is a fearful thing to lead this great peaceful people'),\n",
       " Document(metadata={'source': '../../2.1-DataIngestion/speech.txt'}, page_content='fearful thing to lead this great peaceful people into war, into the most terrible and disastrous of'),\n",
       " Document(metadata={'source': '../../2.1-DataIngestion/speech.txt'}, page_content='war, into the most terrible and disastrous of all wars, civilization itself seeming to be in the'),\n",
       " Document(metadata={'source': '../../2.1-DataIngestion/speech.txt'}, page_content='wars, civilization itself seeming to be in the balance. But the right is more precious than peace,'),\n",
       " Document(metadata={'source': '../../2.1-DataIngestion/speech.txt'}, page_content='But the right is more precious than peace, and we shall fight for the things which we have always'),\n",
       " Document(metadata={'source': '../../2.1-DataIngestion/speech.txt'}, page_content='shall fight for the things which we have always carried nearest our hearts—for democracy, for the'),\n",
       " Document(metadata={'source': '../../2.1-DataIngestion/speech.txt'}, page_content='carried nearest our hearts—for democracy, for the right of those who submit to authority to have a'),\n",
       " Document(metadata={'source': '../../2.1-DataIngestion/speech.txt'}, page_content='right of those who submit to authority to have a voice in their own governments, for the rights and'),\n",
       " Document(metadata={'source': '../../2.1-DataIngestion/speech.txt'}, page_content='in their own governments, for the rights and liberties of small nations, for a universal dominion'),\n",
       " Document(metadata={'source': '../../2.1-DataIngestion/speech.txt'}, page_content='of small nations, for a universal dominion of right by such a concert of free peoples as shall'),\n",
       " Document(metadata={'source': '../../2.1-DataIngestion/speech.txt'}, page_content='right by such a concert of free peoples as shall bring peace and safety to all nations and make the'),\n",
       " Document(metadata={'source': '../../2.1-DataIngestion/speech.txt'}, page_content='peace and safety to all nations and make the world itself at last free.'),\n",
       " Document(metadata={'source': '../../2.1-DataIngestion/speech.txt'}, page_content='To such a task we can dedicate our lives and our fortunes, everything that we are and everything'),\n",
       " Document(metadata={'source': '../../2.1-DataIngestion/speech.txt'}, page_content='fortunes, everything that we are and everything that we have, with the pride of those who know that'),\n",
       " Document(metadata={'source': '../../2.1-DataIngestion/speech.txt'}, page_content='we have, with the pride of those who know that the day has come when America is privileged to spend'),\n",
       " Document(metadata={'source': '../../2.1-DataIngestion/speech.txt'}, page_content='day has come when America is privileged to spend her blood and her might for the principles that'),\n",
       " Document(metadata={'source': '../../2.1-DataIngestion/speech.txt'}, page_content='her blood and her might for the principles that gave her birth and happiness and the peace which'),\n",
       " Document(metadata={'source': '../../2.1-DataIngestion/speech.txt'}, page_content='gave her birth and happiness and the peace which she has treasured. God helping her, she can do no'),\n",
       " Document(metadata={'source': '../../2.1-DataIngestion/speech.txt'}, page_content='she has treasured. God helping her, she can do no other.')]"
      ]
     },
     "execution_count": 20,
     "metadata": {},
     "output_type": "execute_result"
    }
   ],
   "source": [
    "splitted_docs"
   ]
  },
  {
   "cell_type": "markdown",
   "metadata": {},
   "source": [
    "## Embedding"
   ]
  },
  {
   "cell_type": "code",
   "execution_count": 21,
   "metadata": {},
   "outputs": [],
   "source": [
    "# Hugging face Embedder\n",
    "#from langchain_huggingface import HuggingFaceEmbeddings\n",
    "#embeddings=HuggingFaceEmbeddings(model_name=\"all-MiniLM-L6-v2\")"
   ]
  },
  {
   "cell_type": "code",
   "execution_count": null,
   "metadata": {},
   "outputs": [],
   "source": [
    "# Let's use Google Embedder, it creates more feature representation that hugging face embedder\n",
    "from langchain_google_genai import GoogleGenerativeAIEmbeddings\n",
    "embeddings = GoogleGenerativeAIEmbeddings(model=\"models/embedding-001\")\n"
   ]
  },
  {
   "cell_type": "markdown",
   "metadata": {},
   "source": [
    "## VectorDB creation in cloud using Pinecone"
   ]
  },
  {
   "cell_type": "code",
   "execution_count": 24,
   "metadata": {},
   "outputs": [],
   "source": [
    "from pinecone import Pinecone"
   ]
  },
  {
   "cell_type": "code",
   "execution_count": 25,
   "metadata": {},
   "outputs": [],
   "source": [
    "pinecone_api_key = os.getenv('PINECONE_API_KEY')"
   ]
  },
  {
   "cell_type": "code",
   "execution_count": 26,
   "metadata": {},
   "outputs": [],
   "source": [
    "pc= Pinecone(api_key=pinecone_api_key)"
   ]
  },
  {
   "cell_type": "markdown",
   "metadata": {},
   "source": [
    "### Index creation"
   ]
  },
  {
   "cell_type": "code",
   "execution_count": 33,
   "metadata": {},
   "outputs": [],
   "source": [
    "index_name = \"myrag\""
   ]
  },
  {
   "cell_type": "code",
   "execution_count": 34,
   "metadata": {},
   "outputs": [],
   "source": [
    "from pinecone import ServerlessSpec"
   ]
  },
  {
   "cell_type": "code",
   "execution_count": 35,
   "metadata": {},
   "outputs": [],
   "source": [
    "if not pc.has_index(index_name):\n",
    "    pc.create_index(\n",
    "        name=index_name,\n",
    "        dimension=768,\n",
    "        metric='cosine',\n",
    "        spec=ServerlessSpec(cloud='aws',region='us-east-1')\n",
    "    )"
   ]
  },
  {
   "cell_type": "code",
   "execution_count": 36,
   "metadata": {},
   "outputs": [],
   "source": [
    "index = pc.Index(index_name)"
   ]
  },
  {
   "cell_type": "markdown",
   "metadata": {},
   "source": [
    "### VectorDB creation "
   ]
  },
  {
   "cell_type": "code",
   "execution_count": 37,
   "metadata": {},
   "outputs": [],
   "source": [
    "from langchain_pinecone import PineconeVectorStore"
   ]
  },
  {
   "cell_type": "code",
   "execution_count": 38,
   "metadata": {},
   "outputs": [],
   "source": [
    "vector_store = PineconeVectorStore(index=index, embedding=embeddings)"
   ]
  },
  {
   "cell_type": "code",
   "execution_count": 39,
   "metadata": {},
   "outputs": [
    {
     "data": {
      "text/plain": [
       "['73615c08-3610-4927-b9a2-157af0979e30',\n",
       " 'f5c1f3d6-fde0-4eb5-9016-64f5253c11f4',\n",
       " 'e4082f87-19f0-4bd4-bf69-c603337155df',\n",
       " 'edfae8c6-277d-43d7-9bbe-834f19607696',\n",
       " 'f1921a3b-ed37-44d5-92a9-d57efc103bd6',\n",
       " 'bdbacb4d-2fca-49f4-b6fe-69634c8148f2',\n",
       " '551f6982-df10-43df-bc11-af2da4468021',\n",
       " '87af4c50-5ec7-4755-b09c-108dddb76f2e',\n",
       " '89d65335-22b6-43a5-a40e-4572945c9ca9',\n",
       " '7dbdd2d4-14db-411e-a877-fee918cf7ccf',\n",
       " 'd168b223-858b-490c-a37b-3c924c6c8d47',\n",
       " '38183dcb-443d-4509-96c1-4796f6c8ca40',\n",
       " '60eb649b-7b49-4eea-a075-d3f09b4cce15',\n",
       " 'b1514780-5a1c-4808-8f3e-79c041efa29f',\n",
       " '823ff895-e406-42aa-b635-b7e9a8c07032',\n",
       " '8454527d-86e0-4b9d-b981-5a9b7900e02e',\n",
       " 'a67446f7-0ce2-4880-b2ed-7fcf2f8da34f',\n",
       " '68729e4a-dc96-45f7-adbd-2fa91c006f64',\n",
       " 'f6febc89-efb1-406f-9d5a-9515c9195f2f',\n",
       " '0a3e42a5-b2b4-485f-828c-435c70f1e2e2',\n",
       " '3d42197c-61a4-4472-ad63-8688fe699f12',\n",
       " 'c8dbaf43-b708-4a7c-853c-d060d7f33e25',\n",
       " 'f6765a25-d46e-4e71-83b9-2c1db334d76a',\n",
       " 'd36062ad-130a-4a59-80a2-f76a29be55be',\n",
       " '33ed579f-1ae0-46ad-86ee-ed17a806f0da',\n",
       " '2e69300c-0efd-479e-9001-ce4e74697886',\n",
       " 'acb93a81-ba92-4bcb-bd46-6c4b971793d2',\n",
       " '030dbdfc-2d16-4ccf-9de7-6885c45db50a',\n",
       " '01bb4f55-8b58-48fc-a7d6-5d1a0c6c718f',\n",
       " 'ce00184f-da21-4dd6-8d3d-6c44740f1ce3',\n",
       " 'ec9dbadb-c04f-455e-ba25-aa0730ae86b9',\n",
       " '52900160-3a30-4ceb-b623-274d633cf54c',\n",
       " 'b704c9e7-550c-4852-84cc-3264885c51e0',\n",
       " '4d7bd00f-bd5d-460c-a17a-e3b52b43a0fc',\n",
       " 'b7618c09-1ad6-4dba-8d3b-50e61067de43',\n",
       " '0dce9fc6-4d38-4a2a-892e-25cbedff82ae',\n",
       " '0ed31ed9-63ff-4236-b1de-e401fcf84046',\n",
       " '4e68c88b-e5d4-405a-9cf0-10cb4712313b',\n",
       " '2712762c-9633-484d-ae15-8962ba14bcd0',\n",
       " 'cd13891c-1211-4100-8798-76557870f9e4',\n",
       " '445814ec-dbb7-4768-b0af-24031a041705',\n",
       " '29edde3a-4e77-4a82-ba42-f3dac8108b3a',\n",
       " '88a7dfb3-dc65-42da-8fb9-7326eae2d868',\n",
       " '5070b215-e3e2-4f67-9b9b-4302f54a83ce',\n",
       " '733be799-02e0-48c6-87d2-43e124eef0ca',\n",
       " 'b608c73b-cae0-47b4-b0fe-439633927803',\n",
       " 'ddc8b979-fd82-404c-8a31-1ee92e1c38ec',\n",
       " 'b031c5f9-3209-4915-a2a2-7a679c694f3d',\n",
       " '2b77a732-2bcf-423a-927e-9d2ac1bfc7ad',\n",
       " '43bd1a0d-174b-485d-85d2-4e431a776fd8',\n",
       " 'e289e7f7-a121-4f0f-a86f-aa0eb0722269',\n",
       " '7fb4a3cc-ed4f-4fde-ac3c-9fd2bbabfc49',\n",
       " '27012de5-f1be-4774-a631-5c5b6d42f222',\n",
       " 'caf718aa-3447-4b8d-b2e5-c89fa3dac6eb',\n",
       " 'ea3fe8e0-05b5-4917-8920-775542aefc88',\n",
       " '9e12ef2d-472b-4ee9-bf9a-653a820d7a85',\n",
       " 'cdcc7e6c-ab4b-43a8-9e5f-34aef63b7155',\n",
       " '12fab1d0-347e-45b9-be58-1d6175d3206c',\n",
       " 'b466d970-ecc7-49b0-b3a8-55cb9f43f4d0',\n",
       " '4c6e0f06-653f-4be9-bc66-9f73f53fc658',\n",
       " '999a9bcc-de5a-449e-9c5b-56cd2c5eb9d8',\n",
       " '6d0f3de3-d6cf-49fd-8ad2-9cc3dfd5b2c7',\n",
       " '23bdcfae-3a2a-433e-b531-c98ed962d7bd',\n",
       " 'b2e19796-e303-41b5-ba32-aa044b37b0c2',\n",
       " 'a1de7e97-ef64-44a7-a6a5-f8f93471d141',\n",
       " 'cadafa64-caea-4f4b-bc61-7dc26f5d4d10',\n",
       " 'e02f356b-358b-418b-9988-75b9b1643213',\n",
       " '2981fb1b-c60b-4899-a62a-c8e60f5f38f7',\n",
       " '61f71ab6-ef4b-4585-bc63-04f5414ccf9b',\n",
       " '0e6f16bd-75ef-4f86-8f23-9e61b61ff40f',\n",
       " '76b3e550-5bfe-4c86-a457-60a628eb8e14',\n",
       " '39167418-5f18-438b-a4ab-1d4c97d422db']"
      ]
     },
     "execution_count": 39,
     "metadata": {},
     "output_type": "execute_result"
    }
   ],
   "source": [
    "vector_store.add_documents(documents=splitted_docs)"
   ]
  },
  {
   "cell_type": "code",
   "execution_count": 41,
   "metadata": {},
   "outputs": [
    {
     "data": {
      "text/plain": [
       "[Document(id='73615c08-3610-4927-b9a2-157af0979e30', metadata={'source': '../../2.1-DataIngestion/speech.txt'}, page_content='The world must be made safe for democracy. Its peace must be planted upon the tested foundations of'),\n",
       " Document(id='4c6e0f06-653f-4be9-bc66-9f73f53fc658', metadata={'source': '../../2.1-DataIngestion/speech.txt'}, page_content='carried nearest our hearts—for democracy, for the right of those who submit to authority to have a')]"
      ]
     },
     "execution_count": 41,
     "metadata": {},
     "output_type": "execute_result"
    }
   ],
   "source": [
    "vector_store.similarity_search('democracy',k=2)"
   ]
  },
  {
   "cell_type": "markdown",
   "metadata": {},
   "source": [
    "### Creation of retrival pipeline"
   ]
  },
  {
   "cell_type": "code",
   "execution_count": 42,
   "metadata": {},
   "outputs": [],
   "source": [
    "retriver = vector_store.as_retriever(\n",
    "    search_type=\"similarity_score_threshold\",\n",
    "    search_kwargs={\"score_threshold\": 0.7} #hyperparameter\n",
    ")"
   ]
  },
  {
   "cell_type": "code",
   "execution_count": 44,
   "metadata": {},
   "outputs": [
    {
     "data": {
      "text/plain": [
       "[Document(id='4c6e0f06-653f-4be9-bc66-9f73f53fc658', metadata={'source': '../../2.1-DataIngestion/speech.txt'}, page_content='carried nearest our hearts—for democracy, for the right of those who submit to authority to have a'),\n",
       " Document(id='73615c08-3610-4927-b9a2-157af0979e30', metadata={'source': '../../2.1-DataIngestion/speech.txt'}, page_content='The world must be made safe for democracy. Its peace must be planted upon the tested foundations of'),\n",
       " Document(id='999a9bcc-de5a-449e-9c5b-56cd2c5eb9d8', metadata={'source': '../../2.1-DataIngestion/speech.txt'}, page_content='right of those who submit to authority to have a voice in their own governments, for the rights and'),\n",
       " Document(id='b466d970-ecc7-49b0-b3a8-55cb9f43f4d0', metadata={'source': '../../2.1-DataIngestion/speech.txt'}, page_content='shall fight for the things which we have always carried nearest our hearts—for democracy, for the')]"
      ]
     },
     "execution_count": 44,
     "metadata": {},
     "output_type": "execute_result"
    }
   ],
   "source": [
    "retriver.invoke('what is Democracy?')"
   ]
  },
  {
   "cell_type": "markdown",
   "metadata": {},
   "source": [
    "## LLM Creation"
   ]
  },
  {
   "cell_type": "code",
   "execution_count": 45,
   "metadata": {},
   "outputs": [],
   "source": [
    "from langchain_google_genai import ChatGoogleGenerativeAI\n",
    "model = ChatGoogleGenerativeAI(model='gemini-1.5-flash')"
   ]
  },
  {
   "cell_type": "markdown",
   "metadata": {},
   "source": [
    "#### Prompt creation "
   ]
  },
  {
   "cell_type": "code",
   "execution_count": 46,
   "metadata": {},
   "outputs": [],
   "source": [
    "from langchain import hub\n",
    "prompt = hub.pull('rlm/rag-prompt')"
   ]
  },
  {
   "cell_type": "markdown",
   "metadata": {},
   "source": [
    "#### Chaining"
   ]
  },
  {
   "cell_type": "code",
   "execution_count": 47,
   "metadata": {},
   "outputs": [],
   "source": [
    "from langchain_core.output_parsers import StrOutputParser\n",
    "from langchain_core.runnables import RunnablePassthrough"
   ]
  },
  {
   "cell_type": "code",
   "execution_count": 48,
   "metadata": {},
   "outputs": [],
   "source": [
    "def format_doc(docs):\n",
    "    return \"\\n\\n\".join(doc.page_content for doc in docs)"
   ]
  },
  {
   "cell_type": "code",
   "execution_count": 49,
   "metadata": {},
   "outputs": [],
   "source": [
    "rag_chain = (\n",
    "    {\"context\": retriver | format_doc, \"question\": RunnablePassthrough()}\n",
    "    | prompt\n",
    "    | model\n",
    "    | StrOutputParser()\n",
    ")"
   ]
  },
  {
   "cell_type": "code",
   "execution_count": 50,
   "metadata": {},
   "outputs": [
    {
     "data": {
      "text/plain": [
       "'This question cannot be answered from the given context.  The provided text does not contain any information about your name.'"
      ]
     },
     "execution_count": 50,
     "metadata": {},
     "output_type": "execute_result"
    }
   ],
   "source": [
    "rag_chain.invoke('What is my Name?')"
   ]
  },
  {
   "cell_type": "code",
   "execution_count": 51,
   "metadata": {},
   "outputs": [
    {
     "data": {
      "text/plain": [
       "\"Democracy is the right of those who submit to authority to have a voice in their own governments.  It's a system where the people have a say in how they are governed.  The provided text emphasizes its importance and the need to protect it.\""
      ]
     },
     "execution_count": 51,
     "metadata": {},
     "output_type": "execute_result"
    }
   ],
   "source": [
    "rag_chain.invoke(\"What is Democracy?\")"
   ]
  },
  {
   "cell_type": "code",
   "execution_count": 52,
   "metadata": {},
   "outputs": [
    {
     "data": {
      "text/plain": [
       "'I\\'m sorry, but this text does not define \"powerful speech.\"  The provided text focuses on leadership and the burdens of war, not the characteristics of effective or persuasive communication.'"
      ]
     },
     "execution_count": 52,
     "metadata": {},
     "output_type": "execute_result"
    }
   ],
   "source": [
    "rag_chain.invoke(\"Can u say what is powerfull speech?\")"
   ]
  },
  {
   "cell_type": "code",
   "execution_count": 53,
   "metadata": {},
   "outputs": [
    {
     "data": {
      "text/plain": [
       "'Based on the provided text, leadership is described as a fearful undertaking, especially when leading a peaceful people into war.  The context highlights the challenges and potential for disloyalty that leaders face.  It also suggests that strong leadership involves patience and forbearance.'"
      ]
     },
     "execution_count": 53,
     "metadata": {},
     "output_type": "execute_result"
    }
   ],
   "source": [
    "rag_chain.invoke(\"What is leadership?\")"
   ]
  },
  {
   "cell_type": "code",
   "execution_count": null,
   "metadata": {},
   "outputs": [],
   "source": []
  }
 ],
 "metadata": {
  "kernelspec": {
   "display_name": "Python 3",
   "language": "python",
   "name": "python3"
  },
  "language_info": {
   "codemirror_mode": {
    "name": "ipython",
    "version": 3
   },
   "file_extension": ".py",
   "mimetype": "text/x-python",
   "name": "python",
   "nbconvert_exporter": "python",
   "pygments_lexer": "ipython3",
   "version": "3.13.0"
  }
 },
 "nbformat": 4,
 "nbformat_minor": 2
}
